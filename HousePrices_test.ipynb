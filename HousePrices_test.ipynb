{
 "cells": [
  {
   "cell_type": "markdown",
   "metadata": {},
   "source": [
    "## Import Needed Modules"
   ]
  },
  {
   "cell_type": "code",
   "execution_count": 2,
   "metadata": {},
   "outputs": [],
   "source": [
    "import numpy as np\n",
    "import pandas as pd\n",
    "import missingno as msno\n",
    "import sklearn.ensemble\n",
    "%matplotlib inline\n",
    "import matplotlib.pyplot as plt\n",
    "from sklearn.preprocessing import LabelEncoder,OrdinalEncoder\n",
    "import category_encoders as ce\n",
    "import seaborn as sns\n",
    "from sklearn.model_selection import GridSearchCV\n",
    "from sklearn.metrics import r2_score\n",
    "plt.style.use('ggplot')"
   ]
  },
  {
   "cell_type": "markdown",
   "metadata": {},
   "source": [
    "## Data Exploration\n",
    "Handling Missing Data"
   ]
  },
  {
   "cell_type": "code",
   "execution_count": 3,
   "metadata": {},
   "outputs": [],
   "source": [
    "test=pd.read_csv('test.csv')"
   ]
  },
  {
   "cell_type": "code",
   "execution_count": 4,
   "metadata": {},
   "outputs": [
    {
     "data": {
      "text/html": [
       "<div>\n",
       "<style scoped>\n",
       "    .dataframe tbody tr th:only-of-type {\n",
       "        vertical-align: middle;\n",
       "    }\n",
       "\n",
       "    .dataframe tbody tr th {\n",
       "        vertical-align: top;\n",
       "    }\n",
       "\n",
       "    .dataframe thead th {\n",
       "        text-align: right;\n",
       "    }\n",
       "</style>\n",
       "<table border=\"1\" class=\"dataframe\">\n",
       "  <thead>\n",
       "    <tr style=\"text-align: right;\">\n",
       "      <th></th>\n",
       "      <th>Id</th>\n",
       "      <th>MSSubClass</th>\n",
       "      <th>MSZoning</th>\n",
       "      <th>LotFrontage</th>\n",
       "      <th>LotArea</th>\n",
       "      <th>Street</th>\n",
       "      <th>Alley</th>\n",
       "      <th>LotShape</th>\n",
       "      <th>LandContour</th>\n",
       "      <th>Utilities</th>\n",
       "      <th>...</th>\n",
       "      <th>ScreenPorch</th>\n",
       "      <th>PoolArea</th>\n",
       "      <th>PoolQC</th>\n",
       "      <th>Fence</th>\n",
       "      <th>MiscFeature</th>\n",
       "      <th>MiscVal</th>\n",
       "      <th>MoSold</th>\n",
       "      <th>YrSold</th>\n",
       "      <th>SaleType</th>\n",
       "      <th>SaleCondition</th>\n",
       "    </tr>\n",
       "  </thead>\n",
       "  <tbody>\n",
       "    <tr>\n",
       "      <th>0</th>\n",
       "      <td>1461</td>\n",
       "      <td>20</td>\n",
       "      <td>RH</td>\n",
       "      <td>80.0</td>\n",
       "      <td>11622</td>\n",
       "      <td>Pave</td>\n",
       "      <td>NaN</td>\n",
       "      <td>Reg</td>\n",
       "      <td>Lvl</td>\n",
       "      <td>AllPub</td>\n",
       "      <td>...</td>\n",
       "      <td>120</td>\n",
       "      <td>0</td>\n",
       "      <td>NaN</td>\n",
       "      <td>MnPrv</td>\n",
       "      <td>NaN</td>\n",
       "      <td>0</td>\n",
       "      <td>6</td>\n",
       "      <td>2010</td>\n",
       "      <td>WD</td>\n",
       "      <td>Normal</td>\n",
       "    </tr>\n",
       "    <tr>\n",
       "      <th>1</th>\n",
       "      <td>1462</td>\n",
       "      <td>20</td>\n",
       "      <td>RL</td>\n",
       "      <td>81.0</td>\n",
       "      <td>14267</td>\n",
       "      <td>Pave</td>\n",
       "      <td>NaN</td>\n",
       "      <td>IR1</td>\n",
       "      <td>Lvl</td>\n",
       "      <td>AllPub</td>\n",
       "      <td>...</td>\n",
       "      <td>0</td>\n",
       "      <td>0</td>\n",
       "      <td>NaN</td>\n",
       "      <td>NaN</td>\n",
       "      <td>Gar2</td>\n",
       "      <td>12500</td>\n",
       "      <td>6</td>\n",
       "      <td>2010</td>\n",
       "      <td>WD</td>\n",
       "      <td>Normal</td>\n",
       "    </tr>\n",
       "    <tr>\n",
       "      <th>2</th>\n",
       "      <td>1463</td>\n",
       "      <td>60</td>\n",
       "      <td>RL</td>\n",
       "      <td>74.0</td>\n",
       "      <td>13830</td>\n",
       "      <td>Pave</td>\n",
       "      <td>NaN</td>\n",
       "      <td>IR1</td>\n",
       "      <td>Lvl</td>\n",
       "      <td>AllPub</td>\n",
       "      <td>...</td>\n",
       "      <td>0</td>\n",
       "      <td>0</td>\n",
       "      <td>NaN</td>\n",
       "      <td>MnPrv</td>\n",
       "      <td>NaN</td>\n",
       "      <td>0</td>\n",
       "      <td>3</td>\n",
       "      <td>2010</td>\n",
       "      <td>WD</td>\n",
       "      <td>Normal</td>\n",
       "    </tr>\n",
       "    <tr>\n",
       "      <th>3</th>\n",
       "      <td>1464</td>\n",
       "      <td>60</td>\n",
       "      <td>RL</td>\n",
       "      <td>78.0</td>\n",
       "      <td>9978</td>\n",
       "      <td>Pave</td>\n",
       "      <td>NaN</td>\n",
       "      <td>IR1</td>\n",
       "      <td>Lvl</td>\n",
       "      <td>AllPub</td>\n",
       "      <td>...</td>\n",
       "      <td>0</td>\n",
       "      <td>0</td>\n",
       "      <td>NaN</td>\n",
       "      <td>NaN</td>\n",
       "      <td>NaN</td>\n",
       "      <td>0</td>\n",
       "      <td>6</td>\n",
       "      <td>2010</td>\n",
       "      <td>WD</td>\n",
       "      <td>Normal</td>\n",
       "    </tr>\n",
       "    <tr>\n",
       "      <th>4</th>\n",
       "      <td>1465</td>\n",
       "      <td>120</td>\n",
       "      <td>RL</td>\n",
       "      <td>43.0</td>\n",
       "      <td>5005</td>\n",
       "      <td>Pave</td>\n",
       "      <td>NaN</td>\n",
       "      <td>IR1</td>\n",
       "      <td>HLS</td>\n",
       "      <td>AllPub</td>\n",
       "      <td>...</td>\n",
       "      <td>144</td>\n",
       "      <td>0</td>\n",
       "      <td>NaN</td>\n",
       "      <td>NaN</td>\n",
       "      <td>NaN</td>\n",
       "      <td>0</td>\n",
       "      <td>1</td>\n",
       "      <td>2010</td>\n",
       "      <td>WD</td>\n",
       "      <td>Normal</td>\n",
       "    </tr>\n",
       "  </tbody>\n",
       "</table>\n",
       "<p>5 rows × 80 columns</p>\n",
       "</div>"
      ],
      "text/plain": [
       "     Id  MSSubClass MSZoning  LotFrontage  LotArea Street Alley LotShape  \\\n",
       "0  1461          20       RH         80.0    11622   Pave   NaN      Reg   \n",
       "1  1462          20       RL         81.0    14267   Pave   NaN      IR1   \n",
       "2  1463          60       RL         74.0    13830   Pave   NaN      IR1   \n",
       "3  1464          60       RL         78.0     9978   Pave   NaN      IR1   \n",
       "4  1465         120       RL         43.0     5005   Pave   NaN      IR1   \n",
       "\n",
       "  LandContour Utilities  ... ScreenPorch PoolArea PoolQC  Fence MiscFeature  \\\n",
       "0         Lvl    AllPub  ...         120        0    NaN  MnPrv         NaN   \n",
       "1         Lvl    AllPub  ...           0        0    NaN    NaN        Gar2   \n",
       "2         Lvl    AllPub  ...           0        0    NaN  MnPrv         NaN   \n",
       "3         Lvl    AllPub  ...           0        0    NaN    NaN         NaN   \n",
       "4         HLS    AllPub  ...         144        0    NaN    NaN         NaN   \n",
       "\n",
       "  MiscVal MoSold  YrSold  SaleType  SaleCondition  \n",
       "0       0      6    2010        WD         Normal  \n",
       "1   12500      6    2010        WD         Normal  \n",
       "2       0      3    2010        WD         Normal  \n",
       "3       0      6    2010        WD         Normal  \n",
       "4       0      1    2010        WD         Normal  \n",
       "\n",
       "[5 rows x 80 columns]"
      ]
     },
     "execution_count": 4,
     "metadata": {},
     "output_type": "execute_result"
    }
   ],
   "source": [
    "test.head()"
   ]
  },
  {
   "cell_type": "code",
   "execution_count": 5,
   "metadata": {},
   "outputs": [
    {
     "name": "stdout",
     "output_type": "stream",
     "text": [
      "(1459, 80)\n"
     ]
    }
   ],
   "source": [
    "print(test.shape)\n"
   ]
  },
  {
   "cell_type": "markdown",
   "metadata": {},
   "source": [
    "Comibine Features"
   ]
  },
  {
   "cell_type": "code",
   "execution_count": 6,
   "metadata": {},
   "outputs": [
    {
     "name": "stdout",
     "output_type": "stream",
     "text": [
      "(1459, 80)\n"
     ]
    },
    {
     "data": {
      "text/html": [
       "<div>\n",
       "<style scoped>\n",
       "    .dataframe tbody tr th:only-of-type {\n",
       "        vertical-align: middle;\n",
       "    }\n",
       "\n",
       "    .dataframe tbody tr th {\n",
       "        vertical-align: top;\n",
       "    }\n",
       "\n",
       "    .dataframe thead th {\n",
       "        text-align: right;\n",
       "    }\n",
       "</style>\n",
       "<table border=\"1\" class=\"dataframe\">\n",
       "  <thead>\n",
       "    <tr style=\"text-align: right;\">\n",
       "      <th></th>\n",
       "      <th>Id</th>\n",
       "      <th>MSSubClass</th>\n",
       "      <th>MSZoning</th>\n",
       "      <th>LotFrontage</th>\n",
       "      <th>LotArea</th>\n",
       "      <th>Street</th>\n",
       "      <th>Alley</th>\n",
       "      <th>LotShape</th>\n",
       "      <th>LandContour</th>\n",
       "      <th>Utilities</th>\n",
       "      <th>...</th>\n",
       "      <th>ScreenPorch</th>\n",
       "      <th>PoolArea</th>\n",
       "      <th>PoolQC</th>\n",
       "      <th>Fence</th>\n",
       "      <th>MiscFeature</th>\n",
       "      <th>MiscVal</th>\n",
       "      <th>MoSold</th>\n",
       "      <th>YrSold</th>\n",
       "      <th>SaleType</th>\n",
       "      <th>SaleCondition</th>\n",
       "    </tr>\n",
       "  </thead>\n",
       "  <tbody>\n",
       "    <tr>\n",
       "      <th>0</th>\n",
       "      <td>1461</td>\n",
       "      <td>20</td>\n",
       "      <td>RH</td>\n",
       "      <td>80.0</td>\n",
       "      <td>11622</td>\n",
       "      <td>Pave</td>\n",
       "      <td>NaN</td>\n",
       "      <td>Reg</td>\n",
       "      <td>Lvl</td>\n",
       "      <td>AllPub</td>\n",
       "      <td>...</td>\n",
       "      <td>120</td>\n",
       "      <td>0</td>\n",
       "      <td>NaN</td>\n",
       "      <td>MnPrv</td>\n",
       "      <td>NaN</td>\n",
       "      <td>0</td>\n",
       "      <td>6</td>\n",
       "      <td>2010</td>\n",
       "      <td>WD</td>\n",
       "      <td>Normal</td>\n",
       "    </tr>\n",
       "    <tr>\n",
       "      <th>1</th>\n",
       "      <td>1462</td>\n",
       "      <td>20</td>\n",
       "      <td>RL</td>\n",
       "      <td>81.0</td>\n",
       "      <td>14267</td>\n",
       "      <td>Pave</td>\n",
       "      <td>NaN</td>\n",
       "      <td>IR1</td>\n",
       "      <td>Lvl</td>\n",
       "      <td>AllPub</td>\n",
       "      <td>...</td>\n",
       "      <td>0</td>\n",
       "      <td>0</td>\n",
       "      <td>NaN</td>\n",
       "      <td>NaN</td>\n",
       "      <td>Gar2</td>\n",
       "      <td>12500</td>\n",
       "      <td>6</td>\n",
       "      <td>2010</td>\n",
       "      <td>WD</td>\n",
       "      <td>Normal</td>\n",
       "    </tr>\n",
       "    <tr>\n",
       "      <th>2</th>\n",
       "      <td>1463</td>\n",
       "      <td>60</td>\n",
       "      <td>RL</td>\n",
       "      <td>74.0</td>\n",
       "      <td>13830</td>\n",
       "      <td>Pave</td>\n",
       "      <td>NaN</td>\n",
       "      <td>IR1</td>\n",
       "      <td>Lvl</td>\n",
       "      <td>AllPub</td>\n",
       "      <td>...</td>\n",
       "      <td>0</td>\n",
       "      <td>0</td>\n",
       "      <td>NaN</td>\n",
       "      <td>MnPrv</td>\n",
       "      <td>NaN</td>\n",
       "      <td>0</td>\n",
       "      <td>3</td>\n",
       "      <td>2010</td>\n",
       "      <td>WD</td>\n",
       "      <td>Normal</td>\n",
       "    </tr>\n",
       "    <tr>\n",
       "      <th>3</th>\n",
       "      <td>1464</td>\n",
       "      <td>60</td>\n",
       "      <td>RL</td>\n",
       "      <td>78.0</td>\n",
       "      <td>9978</td>\n",
       "      <td>Pave</td>\n",
       "      <td>NaN</td>\n",
       "      <td>IR1</td>\n",
       "      <td>Lvl</td>\n",
       "      <td>AllPub</td>\n",
       "      <td>...</td>\n",
       "      <td>0</td>\n",
       "      <td>0</td>\n",
       "      <td>NaN</td>\n",
       "      <td>NaN</td>\n",
       "      <td>NaN</td>\n",
       "      <td>0</td>\n",
       "      <td>6</td>\n",
       "      <td>2010</td>\n",
       "      <td>WD</td>\n",
       "      <td>Normal</td>\n",
       "    </tr>\n",
       "    <tr>\n",
       "      <th>4</th>\n",
       "      <td>1465</td>\n",
       "      <td>120</td>\n",
       "      <td>RL</td>\n",
       "      <td>43.0</td>\n",
       "      <td>5005</td>\n",
       "      <td>Pave</td>\n",
       "      <td>NaN</td>\n",
       "      <td>IR1</td>\n",
       "      <td>HLS</td>\n",
       "      <td>AllPub</td>\n",
       "      <td>...</td>\n",
       "      <td>144</td>\n",
       "      <td>0</td>\n",
       "      <td>NaN</td>\n",
       "      <td>NaN</td>\n",
       "      <td>NaN</td>\n",
       "      <td>0</td>\n",
       "      <td>1</td>\n",
       "      <td>2010</td>\n",
       "      <td>WD</td>\n",
       "      <td>Normal</td>\n",
       "    </tr>\n",
       "  </tbody>\n",
       "</table>\n",
       "<p>5 rows × 80 columns</p>\n",
       "</div>"
      ],
      "text/plain": [
       "     Id  MSSubClass MSZoning  LotFrontage  LotArea Street Alley LotShape  \\\n",
       "0  1461          20       RH         80.0    11622   Pave   NaN      Reg   \n",
       "1  1462          20       RL         81.0    14267   Pave   NaN      IR1   \n",
       "2  1463          60       RL         74.0    13830   Pave   NaN      IR1   \n",
       "3  1464          60       RL         78.0     9978   Pave   NaN      IR1   \n",
       "4  1465         120       RL         43.0     5005   Pave   NaN      IR1   \n",
       "\n",
       "  LandContour Utilities  ... ScreenPorch PoolArea PoolQC  Fence MiscFeature  \\\n",
       "0         Lvl    AllPub  ...         120        0    NaN  MnPrv         NaN   \n",
       "1         Lvl    AllPub  ...           0        0    NaN    NaN        Gar2   \n",
       "2         Lvl    AllPub  ...           0        0    NaN  MnPrv         NaN   \n",
       "3         Lvl    AllPub  ...           0        0    NaN    NaN         NaN   \n",
       "4         HLS    AllPub  ...         144        0    NaN    NaN         NaN   \n",
       "\n",
       "  MiscVal MoSold  YrSold  SaleType  SaleCondition  \n",
       "0       0      6    2010        WD         Normal  \n",
       "1   12500      6    2010        WD         Normal  \n",
       "2       0      3    2010        WD         Normal  \n",
       "3       0      6    2010        WD         Normal  \n",
       "4       0      1    2010        WD         Normal  \n",
       "\n",
       "[5 rows x 80 columns]"
      ]
     },
     "execution_count": 6,
     "metadata": {},
     "output_type": "execute_result"
    }
   ],
   "source": [
    "X=test\n",
    "X.reset_index(drop=True,inplace=True)\n",
    "print(X.shape)\n",
    "X.head()"
   ]
  },
  {
   "cell_type": "markdown",
   "metadata": {},
   "source": [
    "Find columns with the most missing data with respect to the size of the test data."
   ]
  },
  {
   "cell_type": "code",
   "execution_count": 7,
   "metadata": {},
   "outputs": [
    {
     "data": {
      "text/plain": [
       "Text(0, 0.5, 'Missingness %')"
      ]
     },
     "execution_count": 7,
     "metadata": {},
     "output_type": "execute_result"
    },
    {
     "data": {
      "image/png": "[encoded data removed]",
      "text/plain": [
       "<Figure size 720x360 with 1 Axes>"
      ]
     },
     "metadata": {},
     "output_type": "display_data"
    }
   ],
   "source": [
    "NaNcols=X.isna().sum()/X.shape[0]*100\n",
    "a,b=zip(*sorted(zip(NaNcols.index,NaNcols),key=lambda t:t[1],reverse=True)[:20])\n",
    "plt.rcParams['figure.figsize'] = (10,5)\n",
    "plt.bar(a,b,color='b')\n",
    "plt.xticks(rotation='vertical')\n",
    "plt.xlabel('NA Features')\n",
    "plt.ylabel('Missingness %')"
   ]
  },
  {
   "cell_type": "markdown",
   "metadata": {},
   "source": [
    "- 99.5% of **PoolQC** is missing\n",
    "- 96.3% of **MiscFeature** is missing\n",
    "- 93.7% of **Alley** is missing\n",
    "- 80.7% of **Fence** is missing\n",
    "- 47.2% of **FireplaceQu** is missing\n",
    "\n",
    "These data are missing because some features do not exist in some houses. So, the actual values will be imputed as they are referenced in the data description file."
   ]
  },
  {
   "cell_type": "code",
   "execution_count": 8,
   "metadata": {},
   "outputs": [],
   "source": [
    "X['PoolQC'].fillna('No Pool',inplace=True)\n",
    "X['MiscFeature'].fillna('None',inplace=True)\n",
    "X['Alley'].fillna('No alley access',inplace=True)\n",
    "X['Fence'].fillna('No Fence',inplace=True)\n",
    "X['FireplaceQu'].fillna('No Fireplace',inplace=True)\n",
    "\n",
    "X['GarageType'].fillna('No Garage',inplace=True)\n",
    "X['GarageFinish'].fillna('No Garage',inplace=True)\n",
    "X['GarageQual'].fillna('No Garage',inplace=True)\n",
    "\n",
    "X['BsmtExposure'].fillna('No Basement',inplace=True)\n",
    "X['BsmtFinType1'].fillna('No Basement',inplace=True)\n",
    "X['BsmtFinType2'].fillna('No Basement',inplace=True)\n",
    "X['BsmtQual'].fillna('No Basement',inplace=True)\n",
    "X['BsmtCond'].fillna('No Basement',inplace=True)\n",
    "X['GarageCond'].fillna('No Garage',inplace=True)"
   ]
  },
  {
   "cell_type": "markdown",
   "metadata": {},
   "source": [
    "Since, the year in which the garage was built has about 5% missing data, and we cannot assume that the year is zero if there is not a garage, we will try to get rid of the column but after checking the correlation with the year in which the house is built.\n",
    "The year the garage is built and the year the house is built are highly correlated. therefore, he year the garage is built will be removed from the data. And, another parameter for Garage will be added (1= there's a garage, 0=No garage)."
   ]
  },
  {
   "cell_type": "code",
   "execution_count": 9,
   "metadata": {
    "scrolled": true
   },
   "outputs": [
    {
     "name": "stdout",
     "output_type": "stream",
     "text": [
      "[[1.      0.84415]\n",
      " [0.84415 1.     ]]\n"
     ]
    },
    {
     "data": {
      "text/plain": [
       "Text(0, 0.5, 'Year House Built')"
      ]
     },
     "execution_count": 9,
     "metadata": {},
     "output_type": "execute_result"
    },
    {
     "data": {
      "image/png": "[encoded data removed]",
      "text/plain": [
       "<Figure size 720x360 with 1 Axes>"
      ]
     },
     "metadata": {},
     "output_type": "display_data"
    }
   ],
   "source": [
    "garage_year=pd.DataFrame({'GarageYrBlt':X['GarageYrBlt'],'YearBuilt':X['YearBuilt']})\n",
    "garage_year.dropna(inplace=True)\n",
    "garage_year\n",
    "plt.scatter(garage_year['GarageYrBlt'],garage_year['YearBuilt'])\n",
    "print(np.corrcoef(garage_year['GarageYrBlt'],garage_year['YearBuilt']))\n",
    "plt.xlabel('Year Garage Built')\n",
    "plt.ylabel('Year House Built')"
   ]
  },
  {
   "cell_type": "code",
   "execution_count": 10,
   "metadata": {},
   "outputs": [],
   "source": [
    "X.drop('GarageYrBlt',axis=1,inplace=True)\n",
    "X['Garage']=X['GarageType'].apply(lambda x: 0 if x=='No Garage' else 1)"
   ]
  },
  {
   "cell_type": "code",
   "execution_count": 11,
   "metadata": {},
   "outputs": [
    {
     "data": {
      "text/plain": [
       "Text(0, 0.5, 'Missingness %')"
      ]
     },
     "execution_count": 11,
     "metadata": {},
     "output_type": "execute_result"
    },
    {
     "data": {
      "image/png": "[encoded data removed]",
      "text/plain": [
       "<Figure size 720x360 with 1 Axes>"
      ]
     },
     "metadata": {},
     "output_type": "display_data"
    }
   ],
   "source": [
    "NaNcols=X.isna().sum()/X.shape[0]*100\n",
    "a,b=zip(*sorted(zip(NaNcols.index,NaNcols),key=lambda t:t[1],reverse=True)[:20])\n",
    "plt.rcParams['figure.figsize'] = (10,5)\n",
    "plt.bar(a,b,color='b')\n",
    "plt.xticks(rotation='vertical')\n",
    "plt.xlabel('NA Features')\n",
    "plt.ylabel('Missingness %')"
   ]
  },
  {
   "cell_type": "markdown",
   "metadata": {},
   "source": [
    "After imputing the true values of NA in the features set, we still have 17% of the data missing."
   ]
  },
  {
   "cell_type": "code",
   "execution_count": 12,
   "metadata": {},
   "outputs": [
    {
     "data": {
      "text/plain": [
       "0.1706648389307745"
      ]
     },
     "execution_count": 12,
     "metadata": {},
     "output_type": "execute_result"
    }
   ],
   "source": [
    "(X.shape[0]-X.dropna().shape[0])/X.shape[0]"
   ]
  },
  {
   "cell_type": "markdown",
   "metadata": {},
   "source": [
    "The missing percentage in MasVnrType and MasVnrArea are almost the same. We will see if there's a correlation between them."
   ]
  },
  {
   "cell_type": "code",
   "execution_count": 13,
   "metadata": {},
   "outputs": [
    {
     "data": {
      "text/plain": [
       "Text(0, 0.5, 'Missingness %')"
      ]
     },
     "execution_count": 13,
     "metadata": {},
     "output_type": "execute_result"
    },
    {
     "data": {
      "image/png": "[encoded data removed]",
      "text/plain": [
       "<Figure size 360x216 with 1 Axes>"
      ]
     },
     "metadata": {},
     "output_type": "display_data"
    }
   ],
   "source": [
    "NaNcols=X.isna().sum()/X.shape[0]*100\n",
    "a,b=zip(*sorted(zip(NaNcols.index,NaNcols),key=lambda t:t[1],reverse=True)[:5])\n",
    "plt.rcParams['figure.figsize'] = (5,3)\n",
    "plt.bar(a,b,color='b')\n",
    "plt.xticks(rotation='vertical')\n",
    "plt.xlabel('NA Features')\n",
    "plt.ylabel('Missingness %')"
   ]
  },
  {
   "cell_type": "markdown",
   "metadata": {},
   "source": [
    "Check the correlation between missing data using a heat map.\n",
    "- Missing data are definitely the same in GarageCars and GarageArea.\n",
    "- Missing data are definitely the same in BsmtFullBath and BsmtHalfBath.\n",
    "- Missing data are definitely the same in TotalBsmtSF, BsmtUnfSF and BsmtFinSF2.\n",
    "- Missing data are definitely the same in Exterior1st and Exterior2nd.\n",
    "- Missing data are almost the same in MasVnrArea and MasVnrType"
   ]
  },
  {
   "cell_type": "code",
   "execution_count": 14,
   "metadata": {},
   "outputs": [
    {
     "data": {
      "text/plain": [
       "<matplotlib.axes._subplots.AxesSubplot at 0x1fb06f50128>"
      ]
     },
     "execution_count": 14,
     "metadata": {},
     "output_type": "execute_result"
    },
    {
     "data": {
      "image/png": "[encoded data removed]",
      "text/plain": [
       "<Figure size 1440x864 with 2 Axes>"
      ]
     },
     "metadata": {},
     "output_type": "display_data"
    }
   ],
   "source": [
    "msno.heatmap(X)"
   ]
  },
  {
   "cell_type": "markdown",
   "metadata": {},
   "source": [
    "The missing value in GarageCars and GarageArea have 1 in the Garage column. This house will be imputed as 0."
   ]
  },
  {
   "cell_type": "code",
   "execution_count": 15,
   "metadata": {},
   "outputs": [
    {
     "data": {
      "text/plain": [
       "1116    1\n",
       "Name: Garage, dtype: int64"
      ]
     },
     "execution_count": 15,
     "metadata": {},
     "output_type": "execute_result"
    }
   ],
   "source": [
    "X['Garage'].loc[X['GarageCars'].isna()]"
   ]
  },
  {
   "cell_type": "code",
   "execution_count": 16,
   "metadata": {},
   "outputs": [],
   "source": [
    "X['GarageCars'].fillna(0,inplace=True)\n",
    "X['GarageArea'].fillna(0,inplace=True)"
   ]
  },
  {
   "cell_type": "markdown",
   "metadata": {},
   "source": [
    "The houses that have BsmtFullBath and BsmtHalfBath missing are reported to have no basements. These values will be imputed as 0."
   ]
  },
  {
   "cell_type": "code",
   "execution_count": 17,
   "metadata": {},
   "outputs": [
    {
     "data": {
      "text/plain": [
       "660    No Basement\n",
       "728    No Basement\n",
       "Name: BsmtFinType1, dtype: object"
      ]
     },
     "execution_count": 17,
     "metadata": {},
     "output_type": "execute_result"
    }
   ],
   "source": [
    "X['BsmtFinType1'].loc[X['BsmtFullBath'].isna()]"
   ]
  },
  {
   "cell_type": "code",
   "execution_count": 18,
   "metadata": {},
   "outputs": [],
   "source": [
    "X['BsmtFullBath'].fillna(0,inplace=True)\n",
    "X['BsmtHalfBath'].fillna(0,inplace=True)"
   ]
  },
  {
   "cell_type": "markdown",
   "metadata": {},
   "source": [
    "The houses that have TotalBsmtSF, BsmtUnfSF and BsmtFinSF2 missing are reported to have no basement. These values will be impued as 0."
   ]
  },
  {
   "cell_type": "code",
   "execution_count": 19,
   "metadata": {},
   "outputs": [
    {
     "data": {
      "text/plain": [
       "660    No Basement\n",
       "Name: BsmtFinType1, dtype: object"
      ]
     },
     "execution_count": 19,
     "metadata": {},
     "output_type": "execute_result"
    }
   ],
   "source": [
    "X['BsmtFinType1'].loc[X['TotalBsmtSF'].isna()]"
   ]
  },
  {
   "cell_type": "code",
   "execution_count": 20,
   "metadata": {},
   "outputs": [],
   "source": [
    "X['TotalBsmtSF'].fillna(0,inplace=True)\n",
    "X['BsmtUnfSF'].fillna(0,inplace=True)\n",
    "X['BsmtFinSF2'].fillna(0,inplace=True)\n",
    "X['BsmtFinSF1'].fillna(0,inplace=True)"
   ]
  },
  {
   "cell_type": "markdown",
   "metadata": {},
   "source": [
    "Impute Exterior1st and Exterior2nd as \"Other\""
   ]
  },
  {
   "cell_type": "code",
   "execution_count": 21,
   "metadata": {},
   "outputs": [],
   "source": [
    "X['Exterior1st'].fillna('Other',inplace=True)\n",
    "X['Exterior2nd'].fillna('Other',inplace=True)"
   ]
  },
  {
   "cell_type": "markdown",
   "metadata": {},
   "source": [
    "MasVnrArea is mostly NaN when when MasVnrType is missing. MasVnrType will be imputed as \"None\" and \"MasVnrArea\"will be imputed as \"0\"."
   ]
  },
  {
   "cell_type": "code",
   "execution_count": 22,
   "metadata": {},
   "outputs": [
    {
     "data": {
      "text/plain": [
       "231       NaN\n",
       "246       NaN\n",
       "422       NaN\n",
       "532       NaN\n",
       "544       NaN\n",
       "581       NaN\n",
       "851       NaN\n",
       "865       NaN\n",
       "880       NaN\n",
       "889       NaN\n",
       "908       NaN\n",
       "1132      NaN\n",
       "1150    198.0\n",
       "1197      NaN\n",
       "1226      NaN\n",
       "1402      NaN\n",
       "Name: MasVnrArea, dtype: float64"
      ]
     },
     "execution_count": 22,
     "metadata": {},
     "output_type": "execute_result"
    }
   ],
   "source": [
    "X['MasVnrArea'].loc[X['MasVnrType'].isna()]"
   ]
  },
  {
   "cell_type": "code",
   "execution_count": 23,
   "metadata": {},
   "outputs": [
    {
     "data": {
      "text/plain": [
       "231     NaN\n",
       "246     NaN\n",
       "422     NaN\n",
       "532     NaN\n",
       "544     NaN\n",
       "581     NaN\n",
       "851     NaN\n",
       "865     NaN\n",
       "880     NaN\n",
       "889     NaN\n",
       "908     NaN\n",
       "1132    NaN\n",
       "1150    NaN\n",
       "1197    NaN\n",
       "1226    NaN\n",
       "1402    NaN\n",
       "Name: MasVnrType, dtype: object"
      ]
     },
     "execution_count": 23,
     "metadata": {},
     "output_type": "execute_result"
    }
   ],
   "source": [
    "X['MasVnrType'].loc[X['MasVnrType'].isna()]"
   ]
  },
  {
   "cell_type": "markdown",
   "metadata": {},
   "source": [
    "For these missing observations. MasVnrType will be imputed as \"None\" and \"MasVnrArea\"will be imputed as \"0\"."
   ]
  },
  {
   "cell_type": "code",
   "execution_count": 24,
   "metadata": {},
   "outputs": [],
   "source": [
    "X['MasVnrType'].fillna('None',inplace=True)\n",
    "X['MasVnrArea'].fillna(0,inplace=True)"
   ]
  },
  {
   "cell_type": "markdown",
   "metadata": {},
   "source": [
    "- Impute NA in SaleType as \"Other\".\n",
    "- Impute NA in KitchenQual as \"Average\"\n",
    "- Impute NA in Functional as \"Mod\" (Moderate)\n",
    "- Impute NA in Utilities as \"AllPub\" (All Public Utilities)\n",
    "- Impute NA in MSZoning as \"RM\" (Residential Medium Density)"
   ]
  },
  {
   "cell_type": "code",
   "execution_count": 25,
   "metadata": {},
   "outputs": [],
   "source": [
    "X['SaleType'].fillna('Other',inplace=True)\n",
    "X['KitchenQual'].fillna('Average',inplace=True)\n",
    "X['Functional'].fillna('Mod',inplace=True)\n",
    "X['Utilities'].fillna('AllPub',inplace=True)\n",
    "X['MSZoning'].fillna('RM',inplace=True)"
   ]
  },
  {
   "cell_type": "markdown",
   "metadata": {},
   "source": [
    "Now, we have 17.5% of the data missing in LotFrontage. There's only one missing value in Electrical, and we will drop it.\n",
    "\n",
    "We will use KNN neighbor to impute the missing values."
   ]
  },
  {
   "cell_type": "code",
   "execution_count": 26,
   "metadata": {},
   "outputs": [
    {
     "data": {
      "text/plain": [
       "Text(0, 0.5, 'Missingness %')"
      ]
     },
     "execution_count": 26,
     "metadata": {},
     "output_type": "execute_result"
    },
    {
     "data": {
      "image/png": "[encoded data removed]",
      "text/plain": [
       "<Figure size 360x216 with 1 Axes>"
      ]
     },
     "metadata": {},
     "output_type": "display_data"
    }
   ],
   "source": [
    "NaNcols=X.isna().sum()/X.shape[0]*100\n",
    "a,b=zip(*sorted(zip(NaNcols.index,NaNcols),key=lambda t:t[1],reverse=True)[:5])\n",
    "plt.rcParams['figure.figsize'] = (5,3)\n",
    "plt.bar(a,b,color='b')\n",
    "plt.xticks(rotation='vertical')\n",
    "plt.xlabel('NA Features')\n",
    "plt.ylabel('Missingness %')"
   ]
  },
  {
   "cell_type": "markdown",
   "metadata": {},
   "source": [
    "In order to use Gower distance and for decision tree purposes, we need to start encoding ordinal features because Gower can handle categorical features as they are."
   ]
  },
  {
   "cell_type": "markdown",
   "metadata": {},
   "source": [
    "Split categorical and ordinal features."
   ]
  },
  {
   "cell_type": "code",
   "execution_count": 27,
   "metadata": {},
   "outputs": [
    {
     "name": "stdout",
     "output_type": "stream",
     "text": [
      "(43,)\n",
      "(18,)\n",
      "(25,)\n",
      "(37,)\n",
      "(1459, 80)\n"
     ]
    }
   ],
   "source": [
    "string_features=X.select_dtypes('object').columns\n",
    "ordered_features=np.array(['LotShape','LandSlope','ExterQual', 'ExterCond',\n",
    "                 'BsmtQual', 'BsmtCond', 'BsmtExposure', 'BsmtFinType1', 'BsmtFinType2',\n",
    "                 'HeatingQC','KitchenQual','Functional', 'FireplaceQu',\n",
    "                 'GarageFinish', 'GarageQual', 'GarageCond',\n",
    "                 'PoolQC','Fence'])\n",
    "categ_features=np.array(['MSZoning','Street','Alley','LandContour',\n",
    "               'Utilities','LotConfig','Neighborhood',\n",
    "               'Condition1','Condition2','BldgType','HouseStyle', 'RoofStyle', 'RoofMatl', 'Exterior1st',\n",
    "                'Exterior2nd', 'MasVnrType','Foundation','Heating',\n",
    "               'CentralAir', 'Electrical','GarageType','PavedDrive',\n",
    "               'MiscFeature','SaleType','SaleCondition'])\n",
    "# Keep the Id and SalePrice columns from the numerical features.\n",
    "numerical_features=X.select_dtypes('number').columns\n",
    "print(string_features.shape)\n",
    "print(ordered_features.shape)\n",
    "print(categ_features.shape)\n",
    "print(numerical_features.shape)\n",
    "print(X.shape)\n",
    "#np.setdiff1d(string_features,np.union1d(ordered_features,categ_features))"
   ]
  },
  {
   "cell_type": "code",
   "execution_count": 28,
   "metadata": {},
   "outputs": [
    {
     "data": {
      "text/plain": [
       "Index(['Id', 'MSSubClass', 'LotFrontage', 'LotArea', 'OverallQual',\n",
       "       'OverallCond', 'YearBuilt', 'YearRemodAdd', 'MasVnrArea', 'BsmtFinSF1',\n",
       "       'BsmtFinSF2', 'BsmtUnfSF', 'TotalBsmtSF', '1stFlrSF', '2ndFlrSF',\n",
       "       'LowQualFinSF', 'GrLivArea', 'BsmtFullBath', 'BsmtHalfBath', 'FullBath',\n",
       "       'HalfBath', 'BedroomAbvGr', 'KitchenAbvGr', 'TotRmsAbvGrd',\n",
       "       'Fireplaces', 'GarageCars', 'GarageArea', 'WoodDeckSF', 'OpenPorchSF',\n",
       "       'EnclosedPorch', '3SsnPorch', 'ScreenPorch', 'PoolArea', 'MiscVal',\n",
       "       'MoSold', 'YrSold', 'Garage'],\n",
       "      dtype='object')"
      ]
     },
     "execution_count": 28,
     "metadata": {},
     "output_type": "execute_result"
    }
   ],
   "source": [
    "numerical_features"
   ]
  },
  {
   "cell_type": "markdown",
   "metadata": {},
   "source": [
    "Check the unique values in the categ_features."
   ]
  },
  {
   "cell_type": "code",
   "execution_count": 29,
   "metadata": {},
   "outputs": [
    {
     "name": "stdout",
     "output_type": "stream",
     "text": [
      "MSZoning ['RH' 'RL' 'RM' 'FV' 'C (all)']\n",
      "Street ['Pave' 'Grvl']\n",
      "Alley ['No alley access' 'Pave' 'Grvl']\n",
      "LandContour ['Lvl' 'HLS' 'Bnk' 'Low']\n",
      "Utilities ['AllPub']\n",
      "LotConfig ['Inside' 'Corner' 'FR2' 'CulDSac' 'FR3']\n",
      "Neighborhood ['NAmes' 'Gilbert' 'StoneBr' 'BrDale' 'NPkVill' 'NridgHt' 'Blmngtn'\n",
      " 'NoRidge' 'Somerst' 'SawyerW' 'Sawyer' 'NWAmes' 'OldTown' 'BrkSide'\n",
      " 'ClearCr' 'SWISU' 'Edwards' 'CollgCr' 'Crawfor' 'Blueste' 'IDOTRR'\n",
      " 'Mitchel' 'Timber' 'MeadowV' 'Veenker']\n",
      "Condition1 ['Feedr' 'Norm' 'PosN' 'RRNe' 'Artery' 'RRNn' 'PosA' 'RRAn' 'RRAe']\n",
      "Condition2 ['Norm' 'Feedr' 'PosA' 'PosN' 'Artery']\n",
      "BldgType ['1Fam' 'TwnhsE' 'Twnhs' 'Duplex' '2fmCon']\n",
      "HouseStyle ['1Story' '2Story' 'SLvl' '1.5Fin' 'SFoyer' '2.5Unf' '1.5Unf']\n",
      "RoofStyle ['Gable' 'Hip' 'Gambrel' 'Flat' 'Mansard' 'Shed']\n",
      "RoofMatl ['CompShg' 'Tar&Grv' 'WdShake' 'WdShngl']\n",
      "Exterior1st ['VinylSd' 'Wd Sdng' 'HdBoard' 'Plywood' 'MetalSd' 'CemntBd' 'WdShing'\n",
      " 'BrkFace' 'AsbShng' 'BrkComm' 'Stucco' 'AsphShn' 'Other' 'CBlock']\n",
      "Exterior2nd ['VinylSd' 'Wd Sdng' 'HdBoard' 'Plywood' 'MetalSd' 'Brk Cmn' 'CmentBd'\n",
      " 'ImStucc' 'Wd Shng' 'AsbShng' 'Stucco' 'CBlock' 'BrkFace' 'AsphShn'\n",
      " 'Other' 'Stone']\n",
      "MasVnrType ['None' 'BrkFace' 'Stone' 'BrkCmn']\n",
      "Foundation ['CBlock' 'PConc' 'BrkTil' 'Stone' 'Slab' 'Wood']\n",
      "Heating ['GasA' 'GasW' 'Grav' 'Wall']\n",
      "CentralAir ['Y' 'N']\n",
      "Electrical ['SBrkr' 'FuseA' 'FuseF' 'FuseP']\n",
      "GarageType ['Attchd' 'Detchd' 'BuiltIn' 'No Garage' 'Basment' '2Types' 'CarPort']\n",
      "PavedDrive ['Y' 'N' 'P']\n",
      "MiscFeature ['None' 'Gar2' 'Shed' 'Othr']\n",
      "SaleType ['WD' 'COD' 'New' 'ConLD' 'Oth' 'Con' 'ConLw' 'ConLI' 'CWD' 'Other']\n",
      "SaleCondition ['Normal' 'Partial' 'Abnorml' 'Family' 'Alloca' 'AdjLand']\n"
     ]
    }
   ],
   "source": [
    "for name in categ_features:\n",
    "    print(name,X[name].unique())"
   ]
  },
  {
   "cell_type": "markdown",
   "metadata": {},
   "source": [
    "Get unique values of the ordinal data to encode them."
   ]
  },
  {
   "cell_type": "code",
   "execution_count": 30,
   "metadata": {},
   "outputs": [
    {
     "name": "stdout",
     "output_type": "stream",
     "text": [
      "LotShape ['Reg' 'IR1' 'IR2' 'IR3']\n",
      "LandSlope ['Gtl' 'Mod' 'Sev']\n",
      "ExterQual ['TA' 'Gd' 'Ex' 'Fa']\n",
      "ExterCond ['TA' 'Gd' 'Fa' 'Po' 'Ex']\n",
      "BsmtQual ['TA' 'Gd' 'Ex' 'Fa' 'No Basement']\n",
      "BsmtCond ['TA' 'Po' 'Fa' 'Gd' 'No Basement']\n",
      "BsmtExposure ['No' 'Gd' 'Mn' 'Av' 'No Basement']\n",
      "BsmtFinType1 ['Rec' 'ALQ' 'GLQ' 'Unf' 'BLQ' 'LwQ' 'No Basement']\n",
      "BsmtFinType2 ['LwQ' 'Unf' 'Rec' 'BLQ' 'GLQ' 'ALQ' 'No Basement']\n",
      "HeatingQC ['TA' 'Gd' 'Ex' 'Fa' 'Po']\n",
      "KitchenQual ['TA' 'Gd' 'Ex' 'Fa' 'Average']\n",
      "Functional ['Typ' 'Min2' 'Min1' 'Mod' 'Maj1' 'Sev' 'Maj2']\n",
      "FireplaceQu ['No Fireplace' 'TA' 'Gd' 'Po' 'Fa' 'Ex']\n",
      "GarageFinish ['Unf' 'Fin' 'RFn' 'No Garage']\n",
      "GarageQual ['TA' 'No Garage' 'Fa' 'Gd' 'Po']\n",
      "GarageCond ['TA' 'No Garage' 'Fa' 'Gd' 'Po' 'Ex']\n",
      "PoolQC ['No Pool' 'Ex' 'Gd']\n",
      "Fence ['MnPrv' 'No Fence' 'GdPrv' 'GdWo' 'MnWw']\n"
     ]
    }
   ],
   "source": [
    "for name in ordered_features:\n",
    "    print(name,X[name].unique())"
   ]
  },
  {
   "cell_type": "markdown",
   "metadata": {},
   "source": [
    "Create a dictionary to map the ordinal features based on the natural order."
   ]
  },
  {
   "cell_type": "code",
   "execution_count": 31,
   "metadata": {},
   "outputs": [],
   "source": [
    "ordinal_feature_mapping=[{\n",
    "    \"col\": \"LotShape\",\n",
    "    \"mapping\": {\n",
    "        'Reg': 0,\n",
    "        'IR1': 1,\n",
    "        'IR2': 2,\n",
    "        'IR3': 3\n",
    "    }}, {\n",
    "    \"col\": \"LandSlope\",\n",
    "    \"mapping\": {\n",
    "        'Gtl': 0,\n",
    "        'Mod': 1,\n",
    "        'Sev': 2\n",
    "    }}, {\n",
    "    \"col\": \"ExterQual\",\n",
    "    \"mapping\": {\n",
    "        'Po': 0,\n",
    "        'Fa': 1,\n",
    "        'TA': 2,\n",
    "        'Gd': 3,\n",
    "        'Ex': 4\n",
    "    }}, {\n",
    "    \"col\": \"ExterCond\",\n",
    "    \"mapping\": {\n",
    "        'Po': 0,\n",
    "        'Fa': 1,\n",
    "        'TA': 2,\n",
    "        'Gd': 3,\n",
    "        'Ex': 4\n",
    "    }}, {\n",
    "    \"col\": \"BsmtQual\",\n",
    "    \"mapping\": {\n",
    "        'No Basement': 0,\n",
    "        'Po': 1,\n",
    "        'Fa': 2,\n",
    "        'TA': 3,\n",
    "        'Gd': 4,\n",
    "        'Ex': 5\n",
    "    }}, {\n",
    "    \"col\": \"BsmtCond\",\n",
    "    \"mapping\": {\n",
    "        'No Basement': 0,\n",
    "        'Po': 1,\n",
    "        'Fa': 2,\n",
    "        'TA': 3,\n",
    "        'Gd': 4,\n",
    "        'Ex': 5\n",
    "    }}, {\n",
    "    \"col\": \"BsmtExposure\",\n",
    "    \"mapping\": {\n",
    "        'No Basement': 0,\n",
    "        'No': 1,\n",
    "        'Mn': 2,\n",
    "        'Av': 3,\n",
    "        'Gd': 4\n",
    "    }}, {\n",
    "    \"col\": \"BsmtFinType1\",\n",
    "    \"mapping\": {\n",
    "        'No Basement': 0,\n",
    "        'Unf': 1,\n",
    "        'LwQ': 2,\n",
    "        'Rec': 3,\n",
    "        'BLQ': 4,\n",
    "        'ALQ': 5,\n",
    "        'GLQ': 6\n",
    "    }}, {\n",
    "    \"col\": \"BsmtFinType2\",\n",
    "    \"mapping\": {\n",
    "        'No Basement': 0,\n",
    "        'Unf': 1,\n",
    "        'LwQ': 2,\n",
    "        'Rec': 3,\n",
    "        'BLQ': 4,\n",
    "        'ALQ': 5,\n",
    "        'GLQ': 6   \n",
    "    }}, {\n",
    "    \"col\": \"HeatingQC\",\n",
    "    \"mapping\": {\n",
    "        'Po': 0,\n",
    "        'Fa': 1,\n",
    "        'TA': 2,\n",
    "        'Gd': 3,\n",
    "        'Ex': 4\n",
    "    }},{\n",
    "    \"col\": \"KitchenQual\",\n",
    "    \"mapping\": {\n",
    "        'Po': 0,\n",
    "        'Fa': 1,\n",
    "        'TA': 2,\n",
    "        'Gd': 3,\n",
    "        'Ex': 4\n",
    "    }}, {\n",
    "    \"col\": \"Functional\",\n",
    "    \"mapping\": {\n",
    "        'Sal': 0,\n",
    "        'Sev': 1,\n",
    "        'Maj2': 2,\n",
    "        'Maj1': 3,\n",
    "        'Mod': 4,\n",
    "        'Min2': 5,\n",
    "        'Min1': 6,\n",
    "        'Typ': 7\n",
    "    }}, {\n",
    "    \"col\": \"FireplaceQu\",\n",
    "    \"mapping\": {\n",
    "        'No Fireplace': 0,\n",
    "        'Po': 1,\n",
    "        'Fa': 2,\n",
    "        'TA': 3,\n",
    "        'Gd': 4,\n",
    "        'Ex': 5\n",
    "    }}, {\n",
    "    \"col\": \"GarageFinish\",\n",
    "    \"mapping\": {\n",
    "        'No Garage': 0,\n",
    "        'Unf': 1,\n",
    "        'RFn': 2,\n",
    "        'Fin': 3\n",
    "    }}, {\n",
    "    \"col\": \"GarageQual\",\n",
    "    \"mapping\": {\n",
    "        'No Garage': 0,\n",
    "        'Po': 1,\n",
    "        'Fa': 2,\n",
    "        'TA': 3,\n",
    "        'Gd': 4,\n",
    "        'Ex': 5\n",
    "    }}, {\n",
    "    \"col\": \"GarageCond\",\n",
    "    \"mapping\": {\n",
    "        'No Garage': 0,\n",
    "        'Po': 1,\n",
    "        'Fa': 2,\n",
    "        'TA': 3,\n",
    "        'Gd': 4,\n",
    "        'Ex': 5\n",
    "    }}, {\n",
    "    \"col\": \"PoolQC\",\n",
    "    \"mapping\": {\n",
    "        'No Pool': 0,\n",
    "        'Fa': 1,\n",
    "        'TA': 2,\n",
    "        'Gd': 3,\n",
    "        'Ex': 4\n",
    "    }}, {\n",
    "    \"col\": \"Fence\",\n",
    "    \"mapping\": {\n",
    "        'No Fence': 0,\n",
    "        'MnWw': 1,\n",
    "        'GdWo': 2,\n",
    "        'MnPrv': 3,\n",
    "        'GdPrv': 4\n",
    "    }}\n",
    "]"
   ]
  },
  {
   "cell_type": "markdown",
   "metadata": {},
   "source": [
    "Use the encoding dictionary to convert the ordinal features into ordered numerical values."
   ]
  },
  {
   "cell_type": "code",
   "execution_count": 32,
   "metadata": {},
   "outputs": [],
   "source": [
    "ord_encoder= ce.OrdinalEncoder(mapping = ordinal_feature_mapping, \n",
    "                             return_df = True)"
   ]
  },
  {
   "cell_type": "code",
   "execution_count": 33,
   "metadata": {},
   "outputs": [
    {
     "name": "stdout",
     "output_type": "stream",
     "text": [
      "LotShape [0 1 2 3]\n",
      "LandSlope [0 1 2]\n",
      "ExterQual [2 3 4 1]\n",
      "ExterCond [2 3 1 0 4]\n",
      "BsmtQual [3 4 5 2 0]\n",
      "BsmtCond [3 1 2 4 0]\n",
      "BsmtExposure [1 4 2 3 0]\n",
      "BsmtFinType1 [3 5 6 1 4 2 0]\n",
      "BsmtFinType2 [2 1 3 4 6 5 0]\n",
      "HeatingQC [2 3 4 1 0]\n",
      "KitchenQual [ 2.  3.  4.  1. -1.]\n",
      "Functional [7 5 6 4 3 1 2]\n",
      "FireplaceQu [0 3 4 1 2 5]\n",
      "GarageFinish [1 3 2 0]\n",
      "GarageQual [3 0 2 4 1]\n",
      "GarageCond [3 0 2 4 1 5]\n",
      "PoolQC [0 4 3]\n",
      "Fence [3 0 4 2 1]\n",
      "(1459, 18)\n"
     ]
    }
   ],
   "source": [
    "ordered_data=ord_encoder.fit_transform(X[ordered_features])\n",
    "for name in ordered_features:\n",
    "    print(name,ordered_data[name].unique())\n",
    "print(ordered_data.shape)"
   ]
  },
  {
   "cell_type": "markdown",
   "metadata": {},
   "source": [
    "We create a data set that will be used to impute mising LotFrontage area. The data is consisted of the ordinal, categorical and numerical features except 'Id'."
   ]
  },
  {
   "cell_type": "code",
   "execution_count": 34,
   "metadata": {},
   "outputs": [],
   "source": [
    "imputation_data=pd.concat([ordered_data,X[categ_features],X[numerical_features]],axis=1)"
   ]
  },
  {
   "cell_type": "markdown",
   "metadata": {},
   "source": [
    "We will try imputation of **LotFrontage** in **R** using KNN and Gower's distance."
   ]
  },
  {
   "cell_type": "code",
   "execution_count": 35,
   "metadata": {},
   "outputs": [],
   "source": [
    "imputation_data.to_csv('imputation_test_set.csv')"
   ]
  },
  {
   "cell_type": "markdown",
   "metadata": {},
   "source": [
    "When the method is tested on data that existed in X data set. The mean absolute error was about 9.88 feet (14.4% of the mean Lot Frontage).\n",
    "The percentate of missing data is now 0 %."
   ]
  },
  {
   "cell_type": "code",
   "execution_count": 36,
   "metadata": {},
   "outputs": [
    {
     "data": {
      "text/plain": [
       "0.0"
      ]
     },
     "execution_count": 36,
     "metadata": {},
     "output_type": "execute_result"
    }
   ],
   "source": [
    "imp=pd.read_csv('imputed_test_data.csv')\n",
    "(imp.shape[0]-imp.dropna().shape[0])/imp.shape[0]*100"
   ]
  },
  {
   "cell_type": "markdown",
   "metadata": {},
   "source": [
    "Some Feature names changed in R because they start with a number. Get the feature names that changes"
   ]
  },
  {
   "cell_type": "code",
   "execution_count": 37,
   "metadata": {},
   "outputs": [
    {
     "data": {
      "text/plain": [
       "array(['LotFrontage_imp', 'X1stFlrSF', 'X2ndFlrSF', 'X3SsnPorch'],\n",
       "      dtype=object)"
      ]
     },
     "execution_count": 37,
     "metadata": {},
     "output_type": "execute_result"
    }
   ],
   "source": [
    "np.setdiff1d(imp.columns,imputation_data.columns)"
   ]
  },
  {
   "cell_type": "code",
   "execution_count": 38,
   "metadata": {},
   "outputs": [],
   "source": [
    "imp.drop('LotFrontage_imp',axis=1,inplace=True)\n",
    "imp.rename(columns={'X1stFlrSF':'1stFlrSF','X2ndFlrSF':'2ndFlrSF','X3SsnPorch':'3SsnPorch'},inplace=True)"
   ]
  },
  {
   "cell_type": "code",
   "execution_count": 39,
   "metadata": {},
   "outputs": [
    {
     "data": {
      "text/plain": [
       "array([], dtype=object)"
      ]
     },
     "execution_count": 39,
     "metadata": {},
     "output_type": "execute_result"
    }
   ],
   "source": [
    "np.setdiff1d(imp.columns,imputation_data.columns)"
   ]
  },
  {
   "cell_type": "code",
   "execution_count": 40,
   "metadata": {},
   "outputs": [
    {
     "data": {
      "text/plain": [
       "array([], dtype=object)"
      ]
     },
     "execution_count": 40,
     "metadata": {},
     "output_type": "execute_result"
    }
   ],
   "source": [
    "np.setdiff1d(imputation_data.columns,imp.columns)"
   ]
  },
  {
   "cell_type": "markdown",
   "metadata": {},
   "source": [
    "Combine numerical and ordinal data in xdata"
   ]
  },
  {
   "cell_type": "code",
   "execution_count": 41,
   "metadata": {},
   "outputs": [
    {
     "data": {
      "text/plain": [
       "(1459, 55)"
      ]
     },
     "execution_count": 41,
     "metadata": {},
     "output_type": "execute_result"
    }
   ],
   "source": [
    "xdata=pd.DataFrame()\n",
    "for name in ordered_features:\n",
    "    xdata[name]=np.array(imp[name])\n",
    "for name in numerical_features:\n",
    "    xdata[name]=np.array(imp[name])\n",
    "xdata.shape"
   ]
  },
  {
   "cell_type": "markdown",
   "metadata": {},
   "source": [
    "## Prepare Data For Predictions"
   ]
  },
  {
   "cell_type": "code",
   "execution_count": 42,
   "metadata": {},
   "outputs": [],
   "source": [
    "categ_data=pd.get_dummies(imp[categ_features],prefix=categ_features,drop_first=True)"
   ]
  },
  {
   "cell_type": "code",
   "execution_count": 43,
   "metadata": {},
   "outputs": [
    {
     "data": {
      "text/plain": [
       "(1459, 136)"
      ]
     },
     "execution_count": 43,
     "metadata": {},
     "output_type": "execute_result"
    }
   ],
   "source": [
    "categ_data.shape"
   ]
  },
  {
   "cell_type": "markdown",
   "metadata": {},
   "source": [
    "Combine Categorical, Ordinal and Numeric Features in xdata."
   ]
  },
  {
   "cell_type": "code",
   "execution_count": 44,
   "metadata": {},
   "outputs": [
    {
     "data": {
      "text/plain": [
       "(1459, 191)"
      ]
     },
     "execution_count": 44,
     "metadata": {},
     "output_type": "execute_result"
    }
   ],
   "source": [
    "xdata=pd.concat([categ_data,xdata],axis=1)\n",
    "xdata.shape"
   ]
  },
  {
   "cell_type": "markdown",
   "metadata": {},
   "source": [
    "Read train set and fit the model with the optimized parameters."
   ]
  },
  {
   "cell_type": "code",
   "execution_count": 45,
   "metadata": {},
   "outputs": [],
   "source": [
    "xdata_train=pd.read_csv('model_data.csv')\n",
    "X_train=xdata_train.drop(['Id','SalePrice'],axis=1)\n",
    "Y_train=xdata_train['SalePrice']"
   ]
  },
  {
   "cell_type": "code",
   "execution_count": 46,
   "metadata": {},
   "outputs": [
    {
     "data": {
      "text/plain": [
       "(200,)"
      ]
     },
     "execution_count": 46,
     "metadata": {},
     "output_type": "execute_result"
    }
   ],
   "source": [
    "col_names=X_train.columns\n",
    "col_names.shape"
   ]
  },
  {
   "cell_type": "code",
   "execution_count": 47,
   "metadata": {},
   "outputs": [
    {
     "data": {
      "text/plain": [
       "(1459, 200)"
      ]
     },
     "execution_count": 47,
     "metadata": {},
     "output_type": "execute_result"
    }
   ],
   "source": [
    "features_test=xdata.reindex(columns=col_names,fill_value=0)\n",
    "features_test.reset_index(drop=True,inplace=True)\n",
    "features_test.shape"
   ]
  },
  {
   "cell_type": "markdown",
   "metadata": {},
   "source": [
    "## Build the Model\n",
    "Build the model and check the train error. It is similar to what's predicted from the sub-train set."
   ]
  },
  {
   "cell_type": "code",
   "execution_count": 48,
   "metadata": {},
   "outputs": [
    {
     "name": "stdout",
     "output_type": "stream",
     "text": [
      "MAPE train=  5.7412121158810505 %\n"
     ]
    }
   ],
   "source": [
    "from sklearn.ensemble import GradientBoostingRegressor\n",
    "np.random.seed(0)\n",
    "gbm= GradientBoostingRegressor(n_estimators=1000,learning_rate=0.005,verbose=False,max_depth=5,max_features=25)\n",
    "gbm.fit(X_train,Y_train)\n",
    "y_train_predict=gbm.predict(X_train)\n",
    "print('MAPE train= ',np.mean(np.abs((Y_train - y_train_predict) / Y_train)) * 100,'%')\n"
   ]
  },
  {
   "cell_type": "markdown",
   "metadata": {},
   "source": [
    "The Root Mean Squared Logarithmic Error (RMSLE) is 0.081"
   ]
  },
  {
   "cell_type": "code",
   "execution_count": 49,
   "metadata": {},
   "outputs": [
    {
     "data": {
      "text/plain": [
       "0.08093710112044808"
      ]
     },
     "execution_count": 49,
     "metadata": {},
     "output_type": "execute_result"
    }
   ],
   "source": [
    "from sklearn.metrics import mean_squared_log_error\n",
    "np.sqrt(mean_squared_log_error( Y_train, y_train_predict ))"
   ]
  },
  {
   "cell_type": "markdown",
   "metadata": {},
   "source": [
    "## Predictions of the Test Set"
   ]
  },
  {
   "cell_type": "code",
   "execution_count": 51,
   "metadata": {},
   "outputs": [],
   "source": [
    "Ytest_predicted=gbm.predict(features_test)"
   ]
  },
  {
   "cell_type": "code",
   "execution_count": 53,
   "metadata": {},
   "outputs": [
    {
     "data": {
      "text/html": [
       "<div>\n",
       "<style scoped>\n",
       "    .dataframe tbody tr th:only-of-type {\n",
       "        vertical-align: middle;\n",
       "    }\n",
       "\n",
       "    .dataframe tbody tr th {\n",
       "        vertical-align: top;\n",
       "    }\n",
       "\n",
       "    .dataframe thead th {\n",
       "        text-align: right;\n",
       "    }\n",
       "</style>\n",
       "<table border=\"1\" class=\"dataframe\">\n",
       "  <thead>\n",
       "    <tr style=\"text-align: right;\">\n",
       "      <th></th>\n",
       "      <th>Id</th>\n",
       "      <th>SalePrice</th>\n",
       "    </tr>\n",
       "  </thead>\n",
       "  <tbody>\n",
       "    <tr>\n",
       "      <th>0</th>\n",
       "      <td>1461</td>\n",
       "      <td>123805.564519</td>\n",
       "    </tr>\n",
       "    <tr>\n",
       "      <th>1</th>\n",
       "      <td>1462</td>\n",
       "      <td>156538.826198</td>\n",
       "    </tr>\n",
       "    <tr>\n",
       "      <th>2</th>\n",
       "      <td>1463</td>\n",
       "      <td>186016.055856</td>\n",
       "    </tr>\n",
       "    <tr>\n",
       "      <th>3</th>\n",
       "      <td>1464</td>\n",
       "      <td>189955.443668</td>\n",
       "    </tr>\n",
       "    <tr>\n",
       "      <th>4</th>\n",
       "      <td>1465</td>\n",
       "      <td>192199.871837</td>\n",
       "    </tr>\n",
       "  </tbody>\n",
       "</table>\n",
       "</div>"
      ],
      "text/plain": [
       "     Id      SalePrice\n",
       "0  1461  123805.564519\n",
       "1  1462  156538.826198\n",
       "2  1463  186016.055856\n",
       "3  1464  189955.443668\n",
       "4  1465  192199.871837"
      ]
     },
     "execution_count": 53,
     "metadata": {},
     "output_type": "execute_result"
    }
   ],
   "source": [
    "preds=pd.DataFrame()\n",
    "preds['Id']=X['Id']\n",
    "preds['SalePrice']=Ytest_predicted\n",
    "preds.reset_index(drop=True,inplace=True)\n",
    "preds.head()"
   ]
  },
  {
   "cell_type": "code",
   "execution_count": 54,
   "metadata": {},
   "outputs": [
    {
     "data": {
      "text/plain": [
       "Id           0\n",
       "SalePrice    0\n",
       "dtype: int64"
      ]
     },
     "execution_count": 54,
     "metadata": {},
     "output_type": "execute_result"
    }
   ],
   "source": [
    "preds.isna().sum()"
   ]
  },
  {
   "cell_type": "code",
   "execution_count": 89,
   "metadata": {},
   "outputs": [],
   "source": [
    "preds.to_csv('predictions_ia.csv',index=False)"
   ]
  },
  {
   "attachments": {},
   "cell_type": "markdown",
   "metadata": {},
   "source": [
    "#### The RMSLE of the test set reported by Kaggle is 0.134 as compared to 0.081 from the train set. Both errors have close magnitudes, the difference and the errors are acceptable."
   ]
  }
 ],
 "metadata": {
  "kernelspec": {
   "display_name": "Python 3",
   "language": "python",
   "name": "python3"
  },
  "language_info": {
   "codemirror_mode": {
    "name": "ipython",
    "version": 3
   },
   "file_extension": ".py",
   "mimetype": "text/x-python",
   "name": "python",
   "nbconvert_exporter": "python",
   "pygments_lexer": "ipython3",
   "version": "3.7.3"
  }
 },
 "nbformat": 4,
 "nbformat_minor": 2
}
